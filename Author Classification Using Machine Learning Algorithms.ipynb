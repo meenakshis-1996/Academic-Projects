{
 "cells": [
  {
   "cell_type": "markdown",
   "metadata": {},
   "source": [
    "**Text-based author classification on the Reuter Corpus C50 dataset**"
   ]
  },
  {
   "cell_type": "markdown",
   "metadata": {},
   "source": [
    "**Problem Description**\n",
    "\n",
    "In Reuter C50 dataset, my work has been focused on author classification. I trained several machine learning algorithms using the C50 train dataset, evaluated the model using the C50 test dataset and compared the different models based on their test set classification accuracies. \n",
    "\n",
    "The model is intended to classify authors based on linguistic analysis of the documents using TF-IDF matrices. TfidfVectorizer transforms the preprocessed list of words into numerical representation, inflating the importance of terms that are frequent within a document(TF) but are rare across all the documents in the corpus(IDF)."
   ]
  },
  {
   "cell_type": "code",
   "execution_count": 46,
   "metadata": {},
   "outputs": [
    {
     "name": "stderr",
     "output_type": "stream",
     "text": [
      "[nltk_data] Downloading package punkt to\n",
      "[nltk_data]     C:\\Users\\kowsh\\AppData\\Roaming\\nltk_data...\n",
      "[nltk_data]   Package punkt is already up-to-date!\n"
     ]
    }
   ],
   "source": [
    "import os\n",
    "import nltk\n",
    "from nltk.tokenize import word_tokenize\n",
    "from nltk.corpus import stopwords\n",
    "from sklearn.feature_extraction.text import CountVectorizer\n",
    "import string\n",
    "from nltk.stem import PorterStemmer\n",
    "nltk.download('punkt') # for tokenizing\n",
    "\n",
    "# Helper function to read data from a labeled directory\n",
    "def read_data_from_directory(directory_path):\n",
    "    authors = os.listdir(directory_path)\n",
    "    texts = []\n",
    "    labels = []\n",
    "    for author in authors:\n",
    "        author_path = os.path.join(directory_path, author)\n",
    "        for file_name in os.listdir(author_path):\n",
    "            file_path = os.path.join(author_path, file_name)\n",
    "            with open(file_path, 'r', encoding='utf-8') as f:\n",
    "                texts.append(f.read())\n",
    "                labels.append(author)\n",
    "    return texts, labels\n",
    "\n",
    "# Reading the training and test data\n",
    "train_texts, train_labels = read_data_from_directory(\"C:/Users/kowsh/OneDrive/Documents/MSBA Coursework/ISLR by Prof James/STA380-master/STA380-master/data/ReutersC50/C50train\")\n",
    "test_texts, test_labels = read_data_from_directory(\"C:/Users/kowsh/OneDrive/Documents/MSBA Coursework/ISLR by Prof James/STA380-master/STA380-master/data/ReutersC50/C50test\")"
   ]
  },
  {
   "cell_type": "code",
   "execution_count": 47,
   "metadata": {},
   "outputs": [
    {
     "data": {
      "text/plain": [
       "'The Internet may be overflowing with new technology but crime in cyberspace is still of the old-fashioned variety.\\nThe National Consumers League said Wednesday that the most popular scam on the Internet was the pyramid scheme, in which early investors in a bogus fund are paid off with deposits of later investors.\\nThe league, a non-profit consumer advocacy group, tracks web scams through a site it set up on the world wide web in February called Internet Fraud Watch at http://www.fraud.org.\\nThe site, which collects reports directly from consumers, has been widely praised by law enforcement agencies.\\n\"Consumers who suspect a scam on the Internet have critical information,\" said Jodie Bernstein, director of the Federal Trade Commission\\'s Bureau of Consumer Protection. Internet Fraud Watch \"has been a major help to the FTC in identifying particular scams in their infancy.\"\\nIn May, for example, the commission used Internet reports to shut down a site run by Fortuna Alliance that had taken in over $6 million, promising investors they could earn $5,000 a month from an initial deposit of $250. Instead, Fortuna kept most of the money, the commission charged.\\nFraud reports from the league\\'s site, which has been visited over 370,000 times, are forwarded to local, state and federal authorities.\\nThe second-most-popular Internet scam, the league said, was the sale of bogus Internet services, such as custom designed web sites or Internet access accounts.\\nIn third place were crooks who sell computer equipment, such as memory chips or sound boards, over the net and then deliver significantly lower quality goods or nothing at all, the league said.\\nOther top scams involve business opportunities. Con artists may offer shares in a business or franchise using unreasonable predictions or misrepresentations. One popular scheme promised to let consumers get rich while working at home.\\nThe League also announced Tuesday that NationsBank had donated $100,000 to become a sponsor of the Fraud Watch site.\\n'"
      ]
     },
     "execution_count": 47,
     "metadata": {},
     "output_type": "execute_result"
    }
   ],
   "source": [
    "train_texts[0]"
   ]
  },
  {
   "cell_type": "code",
   "execution_count": 48,
   "metadata": {},
   "outputs": [
    {
     "name": "stderr",
     "output_type": "stream",
     "text": [
      "[nltk_data] Downloading package stopwords to\n",
      "[nltk_data]     C:\\Users\\kowsh\\AppData\\Roaming\\nltk_data...\n",
      "[nltk_data]   Package stopwords is already up-to-date!\n"
     ]
    }
   ],
   "source": [
    "# Helper function to tokenize, remove punctuation, and stem\n",
    "nltk.download('stopwords')\n",
    "stop_words = set(stopwords.words('english'))\n",
    "\n",
    "def preprocess_text(text):\n",
    "    # Tokenize\n",
    "    tokens = word_tokenize(text.lower())\n",
    "    \n",
    "    # Remove punctuation\n",
    "    tokens = [token for token in tokens if token not in string.punctuation and token not in stop_words]\n",
    "    \n",
    "    # Stemming\n",
    "    stemmer = PorterStemmer()\n",
    "    stemmed_tokens = [stemmer.stem(token) for token in tokens]\n",
    "    \n",
    "    return stemmed_tokens"
   ]
  },
  {
   "cell_type": "code",
   "execution_count": 49,
   "metadata": {},
   "outputs": [
    {
     "name": "stdout",
     "output_type": "stream",
     "text": [
      "Total number of training documents: 2500\n",
      "Total number of test documents: 2500\n",
      "\n",
      "Average document length in training set: 328.4308 words\n",
      "Minimum document length in training set: 33 words\n",
      "Maximum document length in training set: 957 words\n",
      "\n",
      "Average document length in test set: 333.2564 words\n",
      "Minimum document length in test set: 42 words\n",
      "Maximum document length in test set: 934 words\n"
     ]
    }
   ],
   "source": [
    "import matplotlib.pyplot as plt\n",
    "import numpy as np\n",
    "from collections import Counter\n",
    "\n",
    "# Basic Statistics\n",
    "print(f\"Total number of training documents: {len(train_texts)}\")\n",
    "print(f\"Total number of test documents: {len(test_texts)}\")\n",
    "\n",
    "train_doc_lengths = [len(preprocess_text(text)) for text in train_texts]\n",
    "test_doc_lengths = [len(preprocess_text(text)) for text in test_texts]\n",
    "\n",
    "print(f\"\\nAverage document length in training set: {np.mean(train_doc_lengths)} words\")\n",
    "print(f\"Minimum document length in training set: {np.min(train_doc_lengths)} words\")\n",
    "print(f\"Maximum document length in training set: {np.max(train_doc_lengths)} words\")\n",
    "print(f\"\\nAverage document length in test set: {np.mean(test_doc_lengths)} words\")\n",
    "print(f\"Minimum document length in test set: {np.min(test_doc_lengths)} words\")\n",
    "print(f\"Maximum document length in test set: {np.max(test_doc_lengths)} words\")"
   ]
  },
  {
   "cell_type": "code",
   "execution_count": 50,
   "metadata": {},
   "outputs": [
    {
     "name": "stdout",
     "output_type": "stream",
     "text": [
      "\n",
      "Most common words across the training set:\n",
      "said: 19856\n",
      "'s: 14872\n",
      "'': 13882\n",
      "``: 13712\n",
      "year: 6146\n",
      "compani: 5651\n",
      "would: 5237\n",
      "percent: 5211\n",
      "million: 4942\n",
      "market: 4629\n"
     ]
    },
    {
     "data": {
      "image/png": "[encoded data removed]",
      "text/plain": [
       "<Figure size 1200x600 with 1 Axes>"
      ]
     },
     "metadata": {},
     "output_type": "display_data"
    }
   ],
   "source": [
    "# Term Frequencies\n",
    "all_tokens = [token for text in train_texts for token in preprocess_text(text)]\n",
    "common_tokens = Counter(all_tokens).most_common(10)\n",
    "print(\"\\nMost common words across the training set:\")\n",
    "for token, freq in common_tokens:\n",
    "    print(f\"{token}: {freq}\")\n",
    "\n",
    "# Document Length Distribution\n",
    "plt.figure(figsize=(12, 6))\n",
    "plt.hist(train_doc_lengths, bins=50, alpha=0.7, label='Train')\n",
    "plt.hist(test_doc_lengths, bins=50, alpha=0.7, label='Test')\n",
    "plt.title('Document Length Distribution')\n",
    "plt.xlabel('Document Length')\n",
    "plt.ylabel('Number of Documents')\n",
    "plt.legend()\n",
    "plt.grid(True)\n",
    "plt.show()"
   ]
  },
  {
   "cell_type": "code",
   "execution_count": 51,
   "metadata": {},
   "outputs": [
    {
     "name": "stderr",
     "output_type": "stream",
     "text": [
      "c:\\Users\\kowsh\\anaconda3\\envs\\DatasScienceProgrammingwithPy\\lib\\site-packages\\sklearn\\feature_extraction\\text.py:528: UserWarning: The parameter 'token_pattern' will not be used since 'tokenizer' is not None'\n",
      "  warnings.warn(\n"
     ]
    }
   ],
   "source": [
    "from sklearn.feature_extraction.text import TfidfVectorizer\n",
    "# The Tfidf Vectorizer will use our custom tokenizer/preprocesser\n",
    "vectorizer = TfidfVectorizer(tokenizer=preprocess_text,max_features=2500) #using the preprocess_text function defined earlier\n",
    "train_dtm = vectorizer.fit_transform(train_texts)\n",
    "test_dtm = vectorizer.transform(test_texts)"
   ]
  },
  {
   "cell_type": "code",
   "execution_count": 52,
   "metadata": {},
   "outputs": [
    {
     "name": "stdout",
     "output_type": "stream",
     "text": [
      "2500\n",
      "(2500, 2500)\n",
      "2500\n",
      "(2500, 2500)\n"
     ]
    }
   ],
   "source": [
    "print(len(train_labels)) #train_labels is equivalent to y_train\n",
    "print(train_dtm.shape) \n",
    "print(len(test_labels)) #test_labels is equivalent to y_test\n",
    "print(test_dtm.shape)"
   ]
  },
  {
   "cell_type": "markdown",
   "metadata": {},
   "source": [
    "**Statistical Tools Used and Problem Solving Approach**\n",
    "\n",
    "I have implemented a diverse set of classification algorithms from scikit learn, xgboost and pytorch (for neural nets) to tackle our author classification task. We have leveraged traditional machine learning techniques (like Logistic Regression and Naive Bayes), few advanced tree based methods (like Random Forest and XGBoost), ensemble algorithms(to combine the strength of individual models) and deep learning techniques like neural networks. \n",
    "\n",
    "1. Logistic Regression : I have used this algorithm to analyze how well a linear binary classification model performs in a multi-class classification scenario.\n",
    "\n",
    "2. Multinomial Naive Bayes : I have used Multinomial Naive Bayes, a probability-based multi-class classifier that assumes independence between features, for author classification. This algorithm is known to be well-suited for text classification tasks where features are often word counts/TF-IDFs. \n",
    "\n",
    "3. Random Forest : Random Forest creates multiple decision trees during training and combines their predictions to make a final decision. Since it handles non-linearity well and can perform with high-dimensional data, we expect it to yield competitive results in our case.  \n",
    "\n",
    "4. XG Boosting : XGBoost (Extreme Gradient Boosting) builds a strong predictive model by adding up the predictions of multiple weak models. It is basically a sequential training process where each new model works on reducing the residuals of the previous model. \n",
    "\n",
    "5. Ensemble Algorithm : Ensemble algorithms involve combining the predictions of multiple strong models to generate a more accurate and robust final prediction. We have combined the predictions of Multinomial Naive Bayes and Random Forest - as these gave the highest accuracy at an individual level for our author clasification task. In this case, I used soft voting with the Voting Classifier from sklearn, where I basically take a weighted average of the class probabilites from each of the two models and predict the class with the highest weighted average for a particular document. \n",
    "\n",
    "6. Neural Networks : I have used the PyTorch Library to build and train our neural networks for author classification. I also experimented with different network design parameters, activation functions, hidden layers and model learning optimization techniques. But, due to limited system processing capabilities, we could only optimize the performance of neural networks to some extent."
   ]
  },
  {
   "cell_type": "markdown",
   "metadata": {},
   "source": [
    "**Note :** \n",
    "1. I have performed 5-fold cross validation on all the traditional and tree-based machine learning algorithms using GridSearchCV function from the model selection module of scikit-learn. We use cross validation to select the best hyper parameters and fit the model on the entire training dataset using the selected best hyperparameters. Model evaluation is then performed on this best model using the test data set. \n",
    "\n",
    "2. In xgboost, I did not perform cross validation or iterative hyper-parameter tuning as the system could not take up that level of computational complexity."
   ]
  },
  {
   "cell_type": "markdown",
   "metadata": {},
   "source": [
    "**Logistic Regression**"
   ]
  },
  {
   "cell_type": "markdown",
   "metadata": {},
   "source": [
    "*Parameter Tuning Using 5-fold Cross Validation*"
   ]
  },
  {
   "cell_type": "code",
   "execution_count": 53,
   "metadata": {},
   "outputs": [
    {
     "name": "stdout",
     "output_type": "stream",
     "text": [
      "  Penalty Parameters  Accuracy(%)\n",
      "0       {'C': 0.001}         2.00\n",
      "1        {'C': 0.01}         2.00\n",
      "2         {'C': 0.1}        10.52\n",
      "3          {'C': 10}        63.92\n",
      "4         {'C': 100}        65.28\n",
      "5         {'C': 200}        65.36\n",
      "6         {'C': 300}        65.32\n",
      "7        {'C': 1000}        65.60\n"
     ]
    }
   ],
   "source": [
    "from sklearn.linear_model import LogisticRegression\n",
    "from sklearn.model_selection import GridSearchCV\n",
    "from sklearn.metrics import accuracy_score\n",
    "import seaborn as sns\n",
    "import pandas as pd\n",
    "\n",
    "#creating our logistic regression model with lasso regularization and liblinear algorithm \n",
    "logis_text = LogisticRegression(penalty='l1',solver='liblinear')\n",
    "\n",
    "#parameter tuning using 5-fold cross validation\n",
    "param_grid={'C':[0.001,0.01,0.1,10,100,200,300,1000]}\n",
    "gridsearch=GridSearchCV(logis_text,param_grid,cv=5,scoring=\"accuracy\")\n",
    "\n",
    "gridsearch.fit(train_dtm,train_labels)\n",
    "\n",
    "best_params_list =[]\n",
    "best_scores_list=[]\n",
    "\n",
    "for param, score in zip(gridsearch.cv_results_['params'],gridsearch.cv_results_['mean_test_score']):\n",
    "    best_params_list.append(param)\n",
    "    best_scores_list.append(round((score*100),3))\n",
    "\n",
    "cvresults_df=pd.DataFrame({\"Penalty Parameters\": best_params_list,\"Accuracy(%)\": best_scores_list})\n",
    "print(cvresults_df)\n"
   ]
  },
  {
   "cell_type": "markdown",
   "metadata": {},
   "source": [
    "*Fitting the model with best parameter and training data + Model Evaluation*"
   ]
  },
  {
   "cell_type": "code",
   "execution_count": 55,
   "metadata": {},
   "outputs": [
    {
     "name": "stdout",
     "output_type": "stream",
     "text": [
      "Test Set Accuracy from Logistic Regression : 61.00%\n"
     ]
    }
   ],
   "source": [
    "from sklearn.metrics import accuracy_score\n",
    "\n",
    "#fitting the model with the chosen parameter again on the entire training data and measuring accuracy\n",
    "best_model = LogisticRegression(penalty='l1', solver='liblinear', C=1000)\n",
    "\n",
    "best_model.fit(train_dtm,train_labels)\n",
    "\n",
    "#making predictions for the documents in the test file\n",
    "predictions = best_model.predict(test_dtm)\n",
    "\n",
    "#calculating accuracy\n",
    "acc_logis=(round(accuracy_score(test_labels,predictions),2))*100\n",
    "print(f\"Test Set Accuracy from Logistic Regression : {acc_logis:.2f}%\")"
   ]
  },
  {
   "cell_type": "markdown",
   "metadata": {},
   "source": [
    "**Multinomial Naive Bayes**"
   ]
  },
  {
   "cell_type": "markdown",
   "metadata": {},
   "source": [
    "*Parameter Tuning Using 5-fold Cross Validation*"
   ]
  },
  {
   "cell_type": "code",
   "execution_count": 56,
   "metadata": {},
   "outputs": [
    {
     "name": "stdout",
     "output_type": "stream",
     "text": [
      "   Alpha Parameters  Accuracy(%)\n",
      "0  {'alpha': 0.001}        68.16\n",
      "1   {'alpha': 0.01}        69.04\n",
      "2    {'alpha': 0.1}        68.44\n",
      "3    {'alpha': 1.0}        65.48\n",
      "4   {'alpha': 10.0}        62.40\n",
      "5  {'alpha': 100.0}        60.92\n"
     ]
    }
   ],
   "source": [
    "from sklearn.naive_bayes import MultinomialNB\n",
    "\n",
    "#creating the Naive Bayes model\n",
    "naive_bayes = MultinomialNB()\n",
    "\n",
    "#parameter tuning using 5-fold cross validation\n",
    "param_grid = {'alpha': [0.001, 0.01, 0.1, 1.0, 10.0, 100.0]}\n",
    "grid_search = GridSearchCV(naive_bayes, param_grid, cv=5, scoring='accuracy')\n",
    "\n",
    "grid_search.fit(train_dtm, train_labels)\n",
    "\n",
    "best_params_list = []\n",
    "best_scores_list = []\n",
    "\n",
    "for param, score in zip(grid_search.cv_results_['params'], grid_search.cv_results_['mean_test_score']):\n",
    "    best_params_list.append(param)\n",
    "    best_scores_list.append(round((score*100),3))\n",
    "\n",
    "cvresults_df = pd.DataFrame({\"Alpha Parameters\": best_params_list, \"Accuracy(%)\": best_scores_list})\n",
    "print(cvresults_df)"
   ]
  },
  {
   "cell_type": "markdown",
   "metadata": {},
   "source": [
    "*Fitting the model with best parameter and training data + Model Evaluation*"
   ]
  },
  {
   "cell_type": "code",
   "execution_count": 57,
   "metadata": {},
   "outputs": [
    {
     "name": "stdout",
     "output_type": "stream",
     "text": [
      "Test Set Accuracy from Multinomial Naive Bayes : 64.76%\n"
     ]
    }
   ],
   "source": [
    "from sklearn.metrics import accuracy_score\n",
    "\n",
    "#fitting the model with the chosen parameter again on the entire training data and measuring accuracy\n",
    "best_model = MultinomialNB(alpha=0.01)\n",
    "\n",
    "best_model.fit(train_dtm,train_labels)\n",
    "\n",
    "#making predictions for the documents in the test file\n",
    "predictions = best_model.predict(test_dtm)\n",
    "\n",
    "#calculating accuracy\n",
    "acc_nb=round((accuracy_score(test_labels,predictions)*100),2)\n",
    "print(f\"Test Set Accuracy from Multinomial Naive Bayes : {acc_nb:.2f}%\")"
   ]
  },
  {
   "cell_type": "markdown",
   "metadata": {},
   "source": [
    "**Random Forest**"
   ]
  },
  {
   "cell_type": "markdown",
   "metadata": {},
   "source": [
    "*Performing hyper parameter tuning using 5-fold cross validation* "
   ]
  },
  {
   "cell_type": "code",
   "execution_count": 59,
   "metadata": {},
   "outputs": [
    {
     "name": "stdout",
     "output_type": "stream",
     "text": [
      "                                           Parameters  Accuracy(%)\n",
      "0   {'max_depth': 5, 'min_samples_split': 2, 'n_es...        47.36\n",
      "1   {'max_depth': 5, 'min_samples_split': 2, 'n_es...        50.72\n",
      "2   {'max_depth': 5, 'min_samples_split': 2, 'n_es...        53.96\n",
      "3   {'max_depth': 5, 'min_samples_split': 5, 'n_es...        48.28\n",
      "4   {'max_depth': 5, 'min_samples_split': 5, 'n_es...        50.20\n",
      "5   {'max_depth': 5, 'min_samples_split': 5, 'n_es...        52.76\n",
      "6   {'max_depth': 5, 'min_samples_split': 10, 'n_e...        46.96\n",
      "7   {'max_depth': 5, 'min_samples_split': 10, 'n_e...        51.32\n",
      "8   {'max_depth': 5, 'min_samples_split': 10, 'n_e...        52.88\n",
      "9   {'max_depth': 10, 'min_samples_split': 2, 'n_e...        55.72\n",
      "10  {'max_depth': 10, 'min_samples_split': 2, 'n_e...        59.44\n",
      "11  {'max_depth': 10, 'min_samples_split': 2, 'n_e...        61.76\n",
      "12  {'max_depth': 10, 'min_samples_split': 5, 'n_e...        56.52\n",
      "13  {'max_depth': 10, 'min_samples_split': 5, 'n_e...        58.64\n",
      "14  {'max_depth': 10, 'min_samples_split': 5, 'n_e...        61.56\n",
      "15  {'max_depth': 10, 'min_samples_split': 10, 'n_...        54.84\n",
      "16  {'max_depth': 10, 'min_samples_split': 10, 'n_...        57.60\n",
      "17  {'max_depth': 10, 'min_samples_split': 10, 'n_...        61.08\n",
      "18  {'max_depth': 20, 'min_samples_split': 2, 'n_e...        62.96\n",
      "19  {'max_depth': 20, 'min_samples_split': 2, 'n_e...        64.96\n",
      "20  {'max_depth': 20, 'min_samples_split': 2, 'n_e...        67.12\n",
      "21  {'max_depth': 20, 'min_samples_split': 5, 'n_e...        63.92\n",
      "22  {'max_depth': 20, 'min_samples_split': 5, 'n_e...        65.20\n",
      "23  {'max_depth': 20, 'min_samples_split': 5, 'n_e...        66.44\n",
      "24  {'max_depth': 20, 'min_samples_split': 10, 'n_...        61.20\n",
      "25  {'max_depth': 20, 'min_samples_split': 10, 'n_...        65.04\n",
      "26  {'max_depth': 20, 'min_samples_split': 10, 'n_...        67.36\n"
     ]
    }
   ],
   "source": [
    "from sklearn.ensemble import RandomForestClassifier\n",
    "\n",
    "# Create Random Forest model\n",
    "random_forest = RandomForestClassifier()\n",
    "\n",
    "# Parameter tuning using 5-fold cross validation\n",
    "param_grid = {\n",
    "    'n_estimators': [50, 100, 200],\n",
    "    'max_depth': [5, 10, 20],\n",
    "    'min_samples_split': [2, 5, 10]\n",
    "}\n",
    "grid_search = GridSearchCV(random_forest, param_grid, cv=5, scoring='accuracy')\n",
    "\n",
    "grid_search.fit(train_dtm, train_labels)\n",
    "\n",
    "best_params_list = []\n",
    "best_scores_list = []\n",
    "\n",
    "for param, score in zip(grid_search.cv_results_['params'], grid_search.cv_results_['mean_test_score']):\n",
    "    best_params_list.append(str(param))\n",
    "    best_scores_list.append(round((score*100),3))\n",
    "\n",
    "cvresults_df = pd.DataFrame({\"Parameters\": best_params_list, \"Accuracy(%)\": best_scores_list})\n",
    "print(cvresults_df)\n"
   ]
  },
  {
   "cell_type": "markdown",
   "metadata": {},
   "source": [
    "*Fitting the model with the best hyperparameters and training data + Model Evaluation*"
   ]
  },
  {
   "cell_type": "code",
   "execution_count": 60,
   "metadata": {},
   "outputs": [
    {
     "name": "stdout",
     "output_type": "stream",
     "text": [
      "Test Set Accuracy from Random Forest : 60.8%\n"
     ]
    }
   ],
   "source": [
    "#fitting the model with the chosen parameter again on the entire training data and measuring accuracy\n",
    "best_model = RandomForestClassifier(n_estimators=200,max_depth=20,min_samples_split=10)\n",
    "\n",
    "best_model.fit(train_dtm,train_labels)\n",
    "\n",
    "#making predictions for the documents in the test file\n",
    "predictions = best_model.predict(test_dtm)\n",
    "\n",
    "#calculating accuracy\n",
    "acc_rf=round((accuracy_score(test_labels,predictions)*100),2)\n",
    "print(f\"Test Set Accuracy from Random Forest : {acc_rf}%\")"
   ]
  },
  {
   "cell_type": "markdown",
   "metadata": {},
   "source": [
    "**XG (Extra Gradient) Boosting : Model Fitting + Model Evaluation**"
   ]
  },
  {
   "cell_type": "code",
   "execution_count": 61,
   "metadata": {},
   "outputs": [
    {
     "name": "stdout",
     "output_type": "stream",
     "text": [
      "Test Accuracy from XG Boosting: 52.20%\n"
     ]
    }
   ],
   "source": [
    "import xgboost as xgb\n",
    "import pandas as pd\n",
    "from sklearn.metrics import accuracy_score\n",
    "\n",
    "boost_model=xgb.XGBClassifier(n_estimators=200, learning_rate=0.001, max_depth=3)\n",
    "\n",
    "boost_model.fit(xtrain_tensor,ytrain_tensor)\n",
    "\n",
    "pred=boost_model.predict(xtest_tensor)\n",
    "\n",
    "boost_acc=(accuracy_score(ytest_tensor,pred))*100\n",
    "\n",
    "print(f\"Test Accuracy from XG Boosting: {boost_acc:.2f}%\")"
   ]
  },
  {
   "cell_type": "markdown",
   "metadata": {},
   "source": [
    "**Ensemble Algorithm : Multinomial Naive Bayes + Random Forest**"
   ]
  },
  {
   "cell_type": "markdown",
   "metadata": {},
   "source": [
    "*Part 1 : For Individual Models - Hyper Parameter Tuning with 5-fold CV + Model Fitting on Training Data with best hyperparamers*"
   ]
  },
  {
   "cell_type": "markdown",
   "metadata": {},
   "source": [
    "*Part 2 : Creating Ensemble of Individual Models using Voting Classifier + Fitting Ensemble Model on Training Data + Model Evaluation using Test Set*"
   ]
  },
  {
   "cell_type": "code",
   "execution_count": 64,
   "metadata": {},
   "outputs": [
    {
     "name": "stdout",
     "output_type": "stream",
     "text": [
      "Ensemble (Random Forest and Naive Bayes) Accuracy: 66.40%\n"
     ]
    }
   ],
   "source": [
    "#Ensemble of Naive Bayes and Random Forest\n",
    "\n",
    "from sklearn.ensemble import VotingClassifier\n",
    "\n",
    "#creating the individual models\n",
    "naive_bayes = MultinomialNB()\n",
    "random_forest = RandomForestClassifier()\n",
    "\n",
    "#performing hyper parameter tuning\n",
    "param_grid_nb = {'alpha': [0.001, 0.01, 0.1, 1.0, 10.0, 100.0]}\n",
    "param_grid_rf = {\n",
    "    'n_estimators': [50, 100, 200],\n",
    "    'max_depth': [None, 10, 20],\n",
    "    'min_samples_split': [2, 5, 10]\n",
    "}\n",
    "\n",
    "#performing 5-fold cross validation for naive bayes and random forest\n",
    "grid_search_nb = GridSearchCV(naive_bayes, param_grid_nb, cv=5, scoring='accuracy')\n",
    "grid_search_rf = GridSearchCV(random_forest, param_grid_rf, cv=5, scoring='accuracy')\n",
    "\n",
    "#fitting the individual models\n",
    "grid_search_nb.fit(train_dtm, train_labels)\n",
    "grid_search_rf.fit(train_dtm, train_labels)\n",
    "\n",
    "#defining the ensemble model with voting classifier based on soft voting for calculating weighted probabilities for each class\n",
    "ensemble = VotingClassifier(\n",
    "    estimators=[('nb', grid_search_nb.best_estimator_), ('rf', grid_search_rf.best_estimator_)],\n",
    "    voting='soft' \n",
    ")\n",
    "\n",
    "#fitting the ensemble model\n",
    "ensemble.fit(train_dtm, train_labels)\n",
    "\n",
    "#making predictions for test data based on ensemble model\n",
    "ensemble_predictions = ensemble.predict(test_dtm)\n",
    "\n",
    "#calculating ensemble accuracy\n",
    "ensemble_accuracy = round((((ensemble_predictions == test_labels).sum() / len(test_labels))*100),3)\n",
    "print(f\"Ensemble (Random Forest and Naive Bayes) Accuracy: {ensemble_accuracy:.2f}%\")"
   ]
  },
  {
   "cell_type": "markdown",
   "metadata": {},
   "source": [
    "**Deep Learning : Neural Network Implementation for Author Classification Problem**"
   ]
  },
  {
   "cell_type": "markdown",
   "metadata": {},
   "source": [
    "*Creating the neural network design - input/ouput layers, hidden layers and activation functions*"
   ]
  },
  {
   "cell_type": "markdown",
   "metadata": {},
   "source": [
    "I have designed the neural network to have 3 linear layers. Our first fully connected layer takes 2500 input neurons(all the features from the training set) and outputs 5000 neurons. The output from the first layer are then passed through a relu activation layer, which introduces non-linearity into the network, enabling the networks to learn the complex relationships in data. The third layer takes 5000 neurons as input and outputs 10,000 neurons. The outputs from the third layer are then passed on to the fourth layers which converts these 10,000 neurons into raw scores for 50 author classes. \n",
    "\n",
    "I have not created a soft max activation layer here because we are using CrossEntropyLoss from nn module as our loss function. CrossEntropyLoss function internally applies the soft max activation to our network output and then computes the cross entropy loss - the negative log likelihood loss using the actual author labels in the y tensor. Cross entropy loss basically quantfies the difference between the predicted labels and actual labels and our optimisation algorithm aims to minimise this loss.  "
   ]
  },
  {
   "cell_type": "code",
   "execution_count": 65,
   "metadata": {},
   "outputs": [],
   "source": [
    "import torch\n",
    "import torch.nn as nn\n",
    "import torch.optim as optim\n",
    "\n",
    "#constructing a classification neural network\n",
    "class AuthorClassifier(nn.Module):\n",
    "    def __init__(self):\n",
    "        super(AuthorClassifier, self).__init__()\n",
    "        self.layer1 = nn.Linear(input_size, hidden_size1)\n",
    "        self.relu = nn.ReLU()\n",
    "        self.layer3 = nn.Linear(hidden_size1, hidden_size2)\n",
    "        self.layer5 = nn.Linear(hidden_size2, num_class)\n",
    "\n",
    "    def forward(self, x):\n",
    "        x = self.layer1(x)\n",
    "        x = self.relu(x)\n",
    "        x = self.layer3(x)\n",
    "        x = self.layer5(x)\n",
    "        return x"
   ]
  },
  {
   "cell_type": "markdown",
   "metadata": {},
   "source": [
    "I have used label encoder from scikit-learn to convert the categorical author labels of both test and train datasets to numerical labels. We also had to use .LongTensor for the author label lists to ensure that these labels are treated as integers and not floating point numbers. The tfidf vectors are converted to torch tensors, as our inputs need to be in a datatype that our neural network recognizes and understands. \n",
    "\n",
    "Note : I also tried to use one hot encoding to convert the labels to dummy variables. But, it was making the problem way more complex and we weren't able to trouble shoot it. But, this is something I have included in the way forward buckets of things that could be improved upon. "
   ]
  },
  {
   "cell_type": "code",
   "execution_count": 66,
   "metadata": {},
   "outputs": [],
   "source": [
    "from sklearn.preprocessing import LabelEncoder\n",
    "\n",
    "#converting author names to numerical labels\n",
    "label_encoder = LabelEncoder()\n",
    "label_encoder.fit(train_labels)\n",
    "\n",
    "train_label_indices = label_encoder.transform(train_labels)\n",
    "test_label_indices = label_encoder.transform(test_labels)\n",
    "\n",
    "xtrain_tensor = torch.Tensor(train_dtm.toarray())\n",
    "ytrain_tensor = torch.LongTensor(train_label_indices)  \n",
    "xtest_tensor = torch.Tensor(test_dtm.toarray())\n",
    "ytest_tensor = torch.LongTensor(test_label_indices)  \n"
   ]
  },
  {
   "cell_type": "code",
   "execution_count": 67,
   "metadata": {},
   "outputs": [],
   "source": [
    "import pandas as pd\n",
    "import numpy as np\n",
    "input_size=train_dtm.shape[1]\n",
    "hidden_size1=input_size*2\n",
    "hidden_size2=hidden_size1*2\n",
    "num_class=50"
   ]
  },
  {
   "cell_type": "markdown",
   "metadata": {},
   "source": [
    "I implemented the training loop for our Author Classifier neural netwok using a learning rate (step size) of 0.001 and 10 epochs. The loops iterates over 10 epochs, performs forward and backward passes and updates the model parameters using Adam optimizer based on the gradients computed during back propagation. "
   ]
  },
  {
   "cell_type": "code",
   "execution_count": 68,
   "metadata": {},
   "outputs": [
    {
     "name": "stdout",
     "output_type": "stream",
     "text": [
      "Epoch [1/10], Loss: 3.9121\n",
      "Epoch [2/10], Loss: 3.8027\n",
      "Epoch [3/10], Loss: 3.5997\n",
      "Epoch [4/10], Loss: 3.2317\n",
      "Epoch [5/10], Loss: 2.6848\n",
      "Epoch [6/10], Loss: 2.0439\n",
      "Epoch [7/10], Loss: 1.4490\n",
      "Epoch [8/10], Loss: 1.0127\n",
      "Epoch [9/10], Loss: 0.7314\n",
      "Epoch [10/10], Loss: 0.5463\n"
     ]
    }
   ],
   "source": [
    "\n",
    "learning_rate = 0.001\n",
    "num_epochs = 10\n",
    "\n",
    "model = AuthorClassifier()\n",
    "criterion = nn.CrossEntropyLoss()\n",
    "optimizer = optim.Adam(model.parameters(), lr=learning_rate)\n",
    "\n",
    "for epoch in range(num_epochs):\n",
    "    optimizer.zero_grad()\n",
    "    outputs = model(xtrain_tensor)\n",
    "    loss = criterion(outputs, ytrain_tensor)\n",
    "    loss.backward()\n",
    "    optimizer.step()\n",
    "    print(f\"Epoch [{epoch + 1}/{num_epochs}], Loss: {loss.item():.4f}\")\n"
   ]
  },
  {
   "cell_type": "markdown",
   "metadata": {},
   "source": [
    "After training the author classifier network, I am evaluating how well the network performs on unseen test data in this phase. The network generates 50 raw logit scores for each test document which are then converted to class probabilities using the soft max function. Each row of the output of softmax function contains 50 class probabilities for each test document. I then select the class index with highest probability for each document and store it in predicted_classes. But, these will be integer labels and will be difficult to interpret. Hence, I used inverse tranform function from label_encoder to convert these numerical author labels to the corresponding predicted categorical author labels. "
   ]
  },
  {
   "cell_type": "code",
   "execution_count": 69,
   "metadata": {},
   "outputs": [],
   "source": [
    "import torch.nn.functional as F\n",
    "model.eval()\n",
    "with torch.no_grad():\n",
    "    test_outputs = model(xtest_tensor)  #xtest_tensor contains TF-IDF matrix for c50 test\n",
    "    predicted_probs = F.softmax(test_outputs, dim=1)  #applying softmax to get class probabilities for each of the 50 authors\n",
    "    predicted_classes = predicted_probs.argmax(dim=1)  #getting the predicted class (author) for each document\n",
    "\n",
    "#converting predicted_classes tensor to a NumPy array and inverse transform to get actual author labels\n",
    "predicted_author_labels = label_encoder.inverse_transform(predicted_classes.numpy())\n"
   ]
  },
  {
   "cell_type": "markdown",
   "metadata": {},
   "source": [
    "*Calculating the classification accuracy of neural network*"
   ]
  },
  {
   "cell_type": "code",
   "execution_count": 70,
   "metadata": {},
   "outputs": [
    {
     "name": "stdout",
     "output_type": "stream",
     "text": [
      "Test Accuracy from Neural Nets: 60.88%\n"
     ]
    }
   ],
   "source": [
    "#calculating accuracy\n",
    "correct_predictions = (predicted_classes.numpy() == ytest_tensor.numpy()).sum().item()\n",
    "total_examples = len(ytest_tensor)\n",
    "acc_nn = round((correct_predictions / total_examples)*100,2)\n",
    "\n",
    "print(f\"Test Accuracy from Neural Nets: {acc_nn:.2f}%\")"
   ]
  },
  {
   "cell_type": "markdown",
   "metadata": {},
   "source": [
    "**Results**"
   ]
  },
  {
   "cell_type": "code",
   "execution_count": 81,
   "metadata": {},
   "outputs": [
    {
     "data": {
      "text/html": [
       "<style type=\"text/css\">\n",
       "#T_4ad82_row4_col0, #T_4ad82_row4_col1 {\n",
       "  background-color: yellow;\n",
       "}\n",
       "</style>\n",
       "<table id=\"T_4ad82\">\n",
       "  <thead>\n",
       "    <tr>\n",
       "      <th class=\"blank level0\" >&nbsp;</th>\n",
       "      <th id=\"T_4ad82_level0_col0\" class=\"col_heading level0 col0\" >ML Model</th>\n",
       "      <th id=\"T_4ad82_level0_col1\" class=\"col_heading level0 col1\" >Test Set Accuracy(%)</th>\n",
       "    </tr>\n",
       "  </thead>\n",
       "  <tbody>\n",
       "    <tr>\n",
       "      <th id=\"T_4ad82_level0_row0\" class=\"row_heading level0 row0\" >0</th>\n",
       "      <td id=\"T_4ad82_row0_col0\" class=\"data row0 col0\" >Logistic Regression</td>\n",
       "      <td id=\"T_4ad82_row0_col1\" class=\"data row0 col1\" >61.000000</td>\n",
       "    </tr>\n",
       "    <tr>\n",
       "      <th id=\"T_4ad82_level0_row1\" class=\"row_heading level0 row1\" >1</th>\n",
       "      <td id=\"T_4ad82_row1_col0\" class=\"data row1 col0\" >Multinomial Naive Bayes</td>\n",
       "      <td id=\"T_4ad82_row1_col1\" class=\"data row1 col1\" >64.760000</td>\n",
       "    </tr>\n",
       "    <tr>\n",
       "      <th id=\"T_4ad82_level0_row2\" class=\"row_heading level0 row2\" >2</th>\n",
       "      <td id=\"T_4ad82_row2_col0\" class=\"data row2 col0\" >Random Forest</td>\n",
       "      <td id=\"T_4ad82_row2_col1\" class=\"data row2 col1\" >60.800000</td>\n",
       "    </tr>\n",
       "    <tr>\n",
       "      <th id=\"T_4ad82_level0_row3\" class=\"row_heading level0 row3\" >3</th>\n",
       "      <td id=\"T_4ad82_row3_col0\" class=\"data row3 col0\" >XGBoosting</td>\n",
       "      <td id=\"T_4ad82_row3_col1\" class=\"data row3 col1\" >52.200000</td>\n",
       "    </tr>\n",
       "    <tr>\n",
       "      <th id=\"T_4ad82_level0_row4\" class=\"row_heading level0 row4\" >4</th>\n",
       "      <td id=\"T_4ad82_row4_col0\" class=\"data row4 col0\" >Ensemble(Random Forest + Naive Bayes)</td>\n",
       "      <td id=\"T_4ad82_row4_col1\" class=\"data row4 col1\" >66.400000</td>\n",
       "    </tr>\n",
       "    <tr>\n",
       "      <th id=\"T_4ad82_level0_row5\" class=\"row_heading level0 row5\" >5</th>\n",
       "      <td id=\"T_4ad82_row5_col0\" class=\"data row5 col0\" >Neural Networks</td>\n",
       "      <td id=\"T_4ad82_row5_col1\" class=\"data row5 col1\" >60.880000</td>\n",
       "    </tr>\n",
       "  </tbody>\n",
       "</table>\n"
      ],
      "text/plain": [
       "<pandas.io.formats.style.Styler at 0x21d0c6fb460>"
      ]
     },
     "execution_count": 81,
     "metadata": {},
     "output_type": "execute_result"
    }
   ],
   "source": [
    "results_summary=pd.DataFrame({\"ML Model\":[\"Logistic Regression\",\"Multinomial Naive Bayes\",\"Random Forest\",\"XGBoosting\",\"Ensemble(Random Forest + Naive Bayes)\",\"Neural Networks\"],\n",
    "\"Test Set Accuracy(%)\":[acc_logis,acc_nb,acc_rf,boost_acc,ensemble_accuracy,acc_nn]})\n",
    "\n",
    "#formatting the table\n",
    "\n",
    "def highlight(row):\n",
    "    if row.name==4:\n",
    "        return [\"background-color : yellow\"]* len(row)\n",
    "    return [\"\"]*len(row)\n",
    "\n",
    "formatted_results_summary = results_summary.style.apply(highlight,axis=1)\n",
    "formatted_results_summary"
   ]
  },
  {
   "cell_type": "markdown",
   "metadata": {},
   "source": [
    "**Conclusion**"
   ]
  },
  {
   "cell_type": "markdown",
   "metadata": {},
   "source": [
    "In the table given above, I have furnished the test set accuracy percentages we could achieve from each of the 6 ML algorithms we implemented. \n",
    "\n",
    "For the author classification problem, the ensemble of Random Forest and Multinomal Naive Bayes gave the best test set accuracy of 66.4% - this means that the ensemble algorithm correctly classified 1660 out of the 2500 test documents with the correct authors.  \n",
    "\n",
    "I did not create an ensemble of logistic and multinomial naive bayes, because I wanted to include a model with complementing strengths - for example, Multinomial Naive Bayes excels in classifying documents based on word counts and tf-idf frequecies, whereas Random Forest due its ensemble learning will help us understand the complex patterns between the features within/across documents. Thus, I aimed to get the combine the strength of diverse models in order to make accurate and robust predictions for our author classification problem. \n",
    "\n",
    "Lack of system processing capabilities to fine tune the neural network optimization was one of the main reasons why I could not boost the performance of our neural nets further. "
   ]
  },
  {
   "cell_type": "markdown",
   "metadata": {},
   "source": [
    "**Way Forward**"
   ]
  },
  {
   "cell_type": "markdown",
   "metadata": {},
   "source": [
    "While 66.4% is the best accuracy I could achieve in this project, I aim to fine tune our models further and overcome some of the roadblocks we faced during the implementation phase. Some of the action items in our 'work in progress' pipeline are listed below. \n",
    "\n",
    "1. Exploring optimization of network design parameters (no. of hidden layers, input and output sizes, activation functions..etc ) alongside network learning parameters (epochs and learning schedules) to boost the performance of neural networks. \n",
    "\n",
    "2. Exploring the impact of different kinds of encoding for author labels (label, one hot...etc) on the performance of both ensemble learning and deep learning algorithms. \n",
    "\n",
    "3. Considering a subset based implementation, where we check how well our model performs when we test only for say, 10,20,30 authors instead of 50 authors all at once. Does the accuracy of the model differ based on the subset size of authors? \n",
    "\n",
    "4. Expanding the horizons and understanding the workings of recurrent neural networks such as LSTM (Long Short Term Memory Networks) which seem to have given success in author classification problems as per research papers. "
   ]
  }
 ],
 "metadata": {
  "kernelspec": {
   "display_name": "DatasScienceProgrammingwithPy",
   "language": "python",
   "name": "python3"
  },
  "language_info": {
   "codemirror_mode": {
    "name": "ipython",
    "version": 3
   },
   "file_extension": ".py",
   "mimetype": "text/x-python",
   "name": "python",
   "nbconvert_exporter": "python",
   "pygments_lexer": "ipython3",
   "version": "3.10.12"
  },
  "orig_nbformat": 4
 },
 "nbformat": 4,
 "nbformat_minor": 2
}
